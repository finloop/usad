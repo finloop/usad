{
 "cells": [
  {
   "cell_type": "code",
   "execution_count": 1,
   "id": "118a1264-5a11-42cd-8515-6a5801011d3f",
   "metadata": {},
   "outputs": [],
   "source": [
    "import numpy as np\n",
    "import pandas as pd\n",
    "import torch \n",
    "from torch.utils.data import DataLoader"
   ]
  },
  {
   "cell_type": "code",
   "execution_count": 244,
   "id": "9126b9ee-415a-474c-b035-3309656d69fa",
   "metadata": {},
   "outputs": [],
   "source": [
    "# Create dummy csv data\n",
    "nb_samples = 120*120\n",
    "a = np.arange(nb_samples)\n",
    "df = pd.DataFrame(a, columns=['data'])\n",
    "df.to_csv('data.csv', index=False)"
   ]
  },
  {
   "cell_type": "code",
   "execution_count": 252,
   "id": "22c61943-0f6a-40e0-b67d-4675864a2b7f",
   "metadata": {},
   "outputs": [],
   "source": [
    "# Create Dataset\n",
    "class CSVDataset(torch.utils.data.Dataset):\n",
    "    def __init__(self, path, chunksize, nb_samples):\n",
    "        self.path = path\n",
    "        self.chunksize = chunksize\n",
    "        self.len = nb_samples // self.chunksize\n",
    "\n",
    "    def __getitem__(self, index):\n",
    "        x = next(\n",
    "            pd.read_csv(\n",
    "                self.path,\n",
    "                skiprows=index + 0,  #+1, since we skip the header\n",
    "                chunksize=self.chunksize,\n",
    "                sep=\";\",\n",
    "                decimal=\",\"))\n",
    "        x = torch.from_numpy(x.values.astype(\"float32\"))\n",
    "        return x.reshape(-1, 12, x.shape[1])\n",
    "        \n",
    "    def __len__(self):\n",
    "        return self.len"
   ]
  },
  {
   "cell_type": "code",
   "execution_count": 253,
   "id": "136d69e5-6a39-46a3-97dd-6f5becedb15e",
   "metadata": {},
   "outputs": [],
   "source": [
    "dataset = CSVDataset(\"data.csv\", 12, nb_samples)"
   ]
  },
  {
   "cell_type": "code",
   "execution_count": 254,
   "id": "452df867-53c1-4824-93cb-bc9eb72c6339",
   "metadata": {},
   "outputs": [],
   "source": [
    "loader = DataLoader(dataset, batch_size=24, shuffle=False)"
   ]
  },
  {
   "cell_type": "code",
   "execution_count": 257,
   "id": "12bc06ac-bed1-4a4c-b3b7-777874d096c4",
   "metadata": {},
   "outputs": [
    {
     "data": {
      "text/plain": [
       "torch.Size([1, 12, 1])"
      ]
     },
     "execution_count": 257,
     "metadata": {},
     "output_type": "execute_result"
    }
   ],
   "source": [
    "dataset[0].shape"
   ]
  },
  {
   "cell_type": "code",
   "execution_count": 218,
   "id": "63213171-ff51-40f9-8400-c7abe89545f5",
   "metadata": {},
   "outputs": [
    {
     "ename": "TypeError",
     "evalue": "'DataLoader' object is not an iterator",
     "output_type": "error",
     "traceback": [
      "\u001b[0;31m---------------------------------------------------------------------------\u001b[0m",
      "\u001b[0;31mTypeError\u001b[0m                                 Traceback (most recent call last)",
      "\u001b[0;32m/tmp/ipykernel_8497/606159215.py\u001b[0m in \u001b[0;36m<module>\u001b[0;34m\u001b[0m\n\u001b[0;32m----> 1\u001b[0;31m \u001b[0mnext\u001b[0m\u001b[0;34m(\u001b[0m\u001b[0mloader\u001b[0m\u001b[0;34m)\u001b[0m\u001b[0;34m\u001b[0m\u001b[0;34m\u001b[0m\u001b[0m\n\u001b[0m",
      "\u001b[0;31mTypeError\u001b[0m: 'DataLoader' object is not an iterator"
     ]
    }
   ],
   "source": [
    "next(loader)"
   ]
  },
  {
   "cell_type": "code",
   "execution_count": null,
   "id": "582c9735-f7b1-4eed-bda7-11920b84e363",
   "metadata": {},
   "outputs": [],
   "source": []
  }
 ],
 "metadata": {
  "kernelspec": {
   "display_name": "Python 3 (ipykernel)",
   "language": "python",
   "name": "python3"
  },
  "language_info": {
   "codemirror_mode": {
    "name": "ipython",
    "version": 3
   },
   "file_extension": ".py",
   "mimetype": "text/x-python",
   "name": "python",
   "nbconvert_exporter": "python",
   "pygments_lexer": "ipython3",
   "version": "3.8.12"
  }
 },
 "nbformat": 4,
 "nbformat_minor": 5
}
